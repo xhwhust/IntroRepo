{
 "cells": [
  {
   "cell_type": "code",
   "execution_count": 131,
   "metadata": {},
   "outputs": [],
   "source": [
    "import requests\n",
    "from bs4 import BeautifulSoup\n",
    "res = requests.get('http://news.sina.com.cn/china/')\n",
    "res.encoding = 'utf-8'\n",
    "soup = BeautifulSoup(res.text,'html.parser')\n",
    "for news in soup.select('.news-item') :\n",
    "    if len(news.select('h2')) > 0 :\n",
    "        h2 = news.select('h2')[0].text\n",
    "        time = news.select('.time')[0].text\n",
    "        a = news.select('a')[0]['href']\n",
    "        #print(time,h2,a)"
   ]
  },
  {
   "cell_type": "code",
   "execution_count": 136,
   "metadata": {
    "scrolled": false
   },
   "outputs": [],
   "source": [
    "res2 = requests.get('http://news.sina.com.cn/c/nd/2018-02-06/doc-ifyrkrva4144725.shtml')\n",
    "res2.encoding = 'utf-8'\n",
    "soup2 = BeautifulSoup(res2.text,'html.parser')"
   ]
  },
  {
   "cell_type": "code",
   "execution_count": 163,
   "metadata": {},
   "outputs": [],
   "source": [
    "soup2.select('.main-title')[0].text\n",
    "timesource = soup2.select('.date')[0].text\n",
    "from datetime import datetime\n",
    "dt = datetime.strptime(timesource,'%Y年%m月%d日 %H:%M')\n",
    "#dt.strftime('%Y-%m-%d %H:%M')"
   ]
  },
  {
   "cell_type": "code",
   "execution_count": 168,
   "metadata": {},
   "outputs": [
    {
     "data": {
      "text/plain": [
       "'澎湃新闻'"
      ]
     },
     "execution_count": 168,
     "metadata": {},
     "output_type": "execute_result"
    }
   ],
   "source": [
    "soup2.select('.date-source a')[0].text"
   ]
  },
  {
   "cell_type": "code",
   "execution_count": 190,
   "metadata": {},
   "outputs": [
    {
     "data": {
      "text/plain": [
       "'2月6日，受湖南省委书记、省人大常委会主任杜家毫，省委副书记、省长许达哲委托，省委常委、常务副省长陈向群代表省委、省政府约谈7县（区）党政负责人。    因易地扶贫搬迁工作不实、问题凸显，花垣县、慈利县、辰溪县、衡南县、湘阴县、攸县、回龙圩管理区被通报。7县（区）委书记分别作检讨，并就如何落实整改表态。    陈向群强调，易地扶贫搬迁是脱贫攻坚的重中之重，要提高政治站位，深化思想认识，认真查找原因，及时整改到位。要坚持问题导向，严守搬迁对象精准的界线，严格落实“一方水土养不活一方人”的界定标准。严守住房建设面积政策的红线，建档立卡户人均住房建设面积不超过25平方米。严守不因搬迁举债的底线，自筹资金人均不超过3000元、户均不超过1万元。严守资金项目管理的红线，提高资金使用效率。优化安置方式，主要实行30户以上的集中安置。严格落实建设及交房标准，必须达到基本入住条件才可交房验收。    陈向群指出，要把约谈压力转化为为民担当的动力，举一反三、知耻后勇，扎实做好今年易地扶贫搬迁工作，确保搬迁群众“搬得出、稳得住、能致富”。    新闻多一点    省易地扶贫搬迁工作联席办6日通报，经督查巡查及年度成效考核，花垣县、慈利县、辰溪县、衡南县、湘阴县、攸县、回龙圩管理区在易地扶贫搬迁工作中，暴露出搬迁对象不精准、分散安置比例高、建房选址不科学、住房面积把握不严等典型、突出问题。    联席办要求各县（区） 引起高度重视，认真开展自查自纠，坚持问题导向，深入查找原因，举一反三、狠抓落实，将问题整改到位，高质量完成易地扶贫搬迁任务。'"
      ]
     },
     "execution_count": 190,
     "metadata": {},
     "output_type": "execute_result"
    }
   ],
   "source": [
    "article = []\n",
    "for n in soup2.select('.article p')[1:-2] : \n",
    "    article.append(n.text.strip())\n",
    "'    '.join(article)"
   ]
  },
  {
   "cell_type": "code",
   "execution_count": 193,
   "metadata": {},
   "outputs": [
    {
     "data": {
      "text/plain": [
       "'2月6日，受湖南省委书记、省人大常委会主任杜家毫，省委副书记、省长许达哲委托，省委常委、常务副省长陈向群代表省委、省政府约谈7县（区）党政负责人。    因易地扶贫搬迁工作不实、问题凸显，花垣县、慈利县、辰溪县、衡南县、湘阴县、攸县、回龙圩管理区被通报。7县（区）委书记分别作检讨，并就如何落实整改表态。    陈向群强调，易地扶贫搬迁是脱贫攻坚的重中之重，要提高政治站位，深化思想认识，认真查找原因，及时整改到位。要坚持问题导向，严守搬迁对象精准的界线，严格落实“一方水土养不活一方人”的界定标准。严守住房建设面积政策的红线，建档立卡户人均住房建设面积不超过25平方米。严守不因搬迁举债的底线，自筹资金人均不超过3000元、户均不超过1万元。严守资金项目管理的红线，提高资金使用效率。优化安置方式，主要实行30户以上的集中安置。严格落实建设及交房标准，必须达到基本入住条件才可交房验收。    陈向群指出，要把约谈压力转化为为民担当的动力，举一反三、知耻后勇，扎实做好今年易地扶贫搬迁工作，确保搬迁群众“搬得出、稳得住、能致富”。    新闻多一点    省易地扶贫搬迁工作联席办6日通报，经督查巡查及年度成效考核，花垣县、慈利县、辰溪县、衡南县、湘阴县、攸县、回龙圩管理区在易地扶贫搬迁工作中，暴露出搬迁对象不精准、分散安置比例高、建房选址不科学、住房面积把握不严等典型、突出问题。    联席办要求各县（区） 引起高度重视，认真开展自查自纠，坚持问题导向，深入查找原因，举一反三、狠抓落实，将问题整改到位，高质量完成易地扶贫搬迁任务。'"
      ]
     },
     "execution_count": 193,
     "metadata": {},
     "output_type": "execute_result"
    }
   ],
   "source": [
    "'    '.join([p.text.strip() for p in soup2.select('.article p')[1:-2]])\n",
    "#只用一行代码实现和上面一样的效果"
   ]
  }
 ],
 "metadata": {
  "kernelspec": {
   "display_name": "Python 3",
   "language": "python",
   "name": "python3"
  },
  "language_info": {
   "codemirror_mode": {
    "name": "ipython",
    "version": 3
   },
   "file_extension": ".py",
   "mimetype": "text/x-python",
   "name": "python",
   "nbconvert_exporter": "python",
   "pygments_lexer": "ipython3",
   "version": "3.6.4"
  }
 },
 "nbformat": 4,
 "nbformat_minor": 2
}
