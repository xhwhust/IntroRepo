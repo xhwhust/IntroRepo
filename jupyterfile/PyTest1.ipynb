{
 "cells": [
  {
   "cell_type": "markdown",
   "metadata": {},
   "source": [
    ">Markdown语法\n",
    "\n",
    "## 标题 \n",
    "#### 小标题\n",
    "*斜体*\n",
    "**加粗**\n",
    "***斜体加粗***\n",
    "~~删除线~~\n",
    "1. 有序列表  \n",
    "2. 列表  \n",
    "\n",
    "[超链接](http://www.baidu.com)\n",
    "* 无序列表\n",
    "* 列表\n",
    "\n",
    "header1|h2|h3\n",
    "-|-|-\n",
    "a|b|v\n",
    "fe|r|w"
   ]
  },
  {
   "cell_type": "markdown",
   "metadata": {},
   "source": [
    " ### requests"
   ]
  },
  {
   "cell_type": "code",
   "execution_count": null,
   "metadata": {},
   "outputs": [],
   "source": [
    "import requests\n",
    "response = requests.get('http://www.baidu.com')\n",
    "response.encoding = 'utf-8'\n",
    "print(response.text)"
   ]
  },
  {
   "cell_type": "markdown",
   "metadata": {},
   "source": [
    "### urllib.request  get"
   ]
  },
  {
   "cell_type": "code",
   "execution_count": null,
   "metadata": {},
   "outputs": [],
   "source": [
    "import urllib.request\n",
    "response = urllib.request.urlopen('http://www.baidu.com')\n",
    "print(response.read().decode('utf-8'))"
   ]
  },
  {
   "cell_type": "markdown",
   "metadata": {},
   "source": [
    "### urllib.request  post"
   ]
  },
  {
   "cell_type": "code",
   "execution_count": null,
   "metadata": {},
   "outputs": [],
   "source": [
    "import urllib.request\n",
    "import urllib.parse\n",
    "data = bytes(urllib.parse.urlencode({'hello':'world'}),encoding='utf-8')\n",
    "response = urllib.request.urlopen('http://httpbin.org/post',data=data)\n",
    "print(response.read())"
   ]
  },
  {
   "cell_type": "markdown",
   "metadata": {},
   "source": [
    "#### 传入参数"
   ]
  },
  {
   "cell_type": "code",
   "execution_count": null,
   "metadata": {},
   "outputs": [],
   "source": [
    "from urllib import request,parse\n",
    "url = 'http://www.httpbin.org/post'\n",
    "headers = {\n",
    "    'User-Agent':'Mozilla/5.0 (Windows NT 10.0; Win64; x64) AppleWebKit/537.36 (KHTML, like Gecko) Chrome/68.0.3440.75 Safari/537.36',\n",
    "    'Host':'httpbin.org'\n",
    "}\n",
    "#from data\n",
    "dict = {\n",
    "    'name':'Bob'\n",
    "}\n",
    "data = bytes(parse.urlencode(dict),encoding='utf-8')\n",
    "req = request.Request(url=url,data=data,headers=headers,method='POST')\n",
    "response = request.urlopen(req)\n",
    "print(response.read().decode('utf-8'))"
   ]
  },
  {
   "cell_type": "markdown",
   "metadata": {},
   "source": [
    "### Cookie"
   ]
  },
  {
   "cell_type": "markdown",
   "metadata": {},
   "source": [
    "#### 获取Cookie"
   ]
  },
  {
   "cell_type": "code",
   "execution_count": null,
   "metadata": {},
   "outputs": [],
   "source": [
    "import http.cookiejar,urllib.request\n",
    "cookie = http.cookiejar.CookieJar()\n",
    "handler = urllib.request.HTTPCookieProcessor(cookie)\n",
    "opener = urllib.request.build_opener(handler)\n",
    "response = opener.open('http://www.baidu.com')\n",
    "for item in cookie:\n",
    "    print(item.name+'='+item.value)"
   ]
  },
  {
   "cell_type": "markdown",
   "metadata": {},
   "source": [
    "#### 保存Cookie"
   ]
  },
  {
   "cell_type": "code",
   "execution_count": 25,
   "metadata": {},
   "outputs": [],
   "source": [
    "from http import cookiejar\n",
    "from urllib import request\n",
    "filename = 'd:\\\\cookie.txt'\n",
    "cookie = cookiejar.MozillaCookieJar(filename)\n",
    "handler = request.HTTPCookieProcessor(cookie)\n",
    "opener = request.build_opener(handler)\n",
    "response = opener.open('http://www.baidu.com')\n",
    "#save方法保存\n",
    "cookie.save(ignore_discard=True,ignore_expires=True)"
   ]
  },
  {
   "cell_type": "markdown",
   "metadata": {},
   "source": [
    "#### 读取保存的Cookie"
   ]
  },
  {
   "cell_type": "code",
   "execution_count": 26,
   "metadata": {},
   "outputs": [],
   "source": [
    "from http import cookiejar\n",
    "from urllib import request\n",
    "filename = 'd:\\\\cookie.txt'\n",
    "cookie = cookiejar.MozillaCookieJar()\n",
    "#load方法读取\n",
    "cookie.load(filename,ignore_discard=True,ignore_expires=True)\n",
    "handler = request.HTTPCookieProcessor(cookie)\n",
    "opener = request.build_opener(handler)\n",
    "response = opener.open('http://www.baidu.com')"
   ]
  },
  {
   "cell_type": "markdown",
   "metadata": {},
   "source": [
    "### urlparse"
   ]
  },
  {
   "cell_type": "markdown",
   "metadata": {},
   "source": [
    "#### urlparse"
   ]
  },
  {
   "cell_type": "code",
   "execution_count": 29,
   "metadata": {
    "scrolled": false
   },
   "outputs": [
    {
     "name": "stdout",
     "output_type": "stream",
     "text": [
      "<class 'urllib.parse.ParseResult'> ParseResult(scheme='https', netloc='www.bilibili.com', path='/video/av19057145/', params='', query='p=8', fragment='')\n"
     ]
    }
   ],
   "source": [
    "from urllib.parse import urlparse\n",
    "result = urlparse('https://www.bilibili.com/video/av19057145/?p=8')\n",
    "print(type(result),result)"
   ]
  },
  {
   "cell_type": "markdown",
   "metadata": {},
   "source": [
    "#### urlunparse"
   ]
  },
  {
   "cell_type": "code",
   "execution_count": 32,
   "metadata": {},
   "outputs": [
    {
     "name": "stdout",
     "output_type": "stream",
     "text": [
      "http://www.baidu.com/index.html;user?a=6#commment\n"
     ]
    }
   ],
   "source": [
    "from urllib.parse import urlunparse\n",
    "data = ['http','www.baidu.com','index.html','user','a=6','commment']\n",
    "print(urlunparse(data))"
   ]
  }
 ],
 "metadata": {
  "kernelspec": {
   "display_name": "Python 3",
   "language": "python",
   "name": "python3"
  },
  "language_info": {
   "codemirror_mode": {
    "name": "ipython",
    "version": 3
   },
   "file_extension": ".py",
   "mimetype": "text/x-python",
   "name": "python",
   "nbconvert_exporter": "python",
   "pygments_lexer": "ipython3",
   "version": "3.6.4"
  }
 },
 "nbformat": 4,
 "nbformat_minor": 2
}
