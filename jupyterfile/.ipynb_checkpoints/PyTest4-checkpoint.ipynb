{
 "cells": [
  {
   "cell_type": "markdown",
   "metadata": {},
   "source": [
    "### 用正则表达式抓取新浪新闻"
   ]
  },
  {
   "cell_type": "code",
   "execution_count": null,
   "metadata": {},
   "outputs": [],
   "source": [
    "import re\n",
    "import requests\n",
    "response = requests.get('http://news.sina.com.cn/china')\n",
    "response.encoding = 'utf-8'\n",
    "content = response.text\n",
    "pattern = re.compile('news-item.*?<h2>.*?href=\"(.*?)\".*?>(.*?)</a>',re.S)\n",
    "results = re.findall(pattern,content)\n",
    "for result in results[:-2]:\n",
    "    href,title = result\n",
    "    print(href,title)"
   ]
  },
  {
   "cell_type": "markdown",
   "metadata": {},
   "source": [
    "### BeautifulSoup"
   ]
  },
  {
   "cell_type": "code",
   "execution_count": 5,
   "metadata": {},
   "outputs": [
    {
     "name": "stdout",
     "output_type": "stream",
     "text": [
      "http://news.sina.com.cn/gov/2017-11-02/doc-ifynmzrs6000226.shtml\n",
      "<a href=\"http://news.sina.com.cn/zl/2016-06-02/doc-ifxsvenv6351703.shtml\" target=\"_blank\">“下狗屎也要做操”的媚权嘴脸很丑恶</a>\n"
     ]
    }
   ],
   "source": [
    "import requests\n",
    "from bs4 import BeautifulSoup\n",
    "response = requests.get('http://news.sina.com.cn/china')\n",
    "response.encoding = 'utf-8'\n",
    "content = response.text\n",
    "soup = BeautifulSoup(content,'lxml')\n",
    "print(soup.p.a['href']) #取得标签以及属性\n",
    "print(soup.find_all('li')[0])"
   ]
  }
 ],
 "metadata": {
  "kernelspec": {
   "display_name": "Python 3",
   "language": "python",
   "name": "python3"
  },
  "language_info": {
   "codemirror_mode": {
    "name": "ipython",
    "version": 3
   },
   "file_extension": ".py",
   "mimetype": "text/x-python",
   "name": "python",
   "nbconvert_exporter": "python",
   "pygments_lexer": "ipython3",
   "version": "3.6.4"
  }
 },
 "nbformat": 4,
 "nbformat_minor": 2
}
