{
 "cells": [
  {
   "cell_type": "code",
   "execution_count": 39,
   "metadata": {},
   "outputs": [
    {
     "ename": "IndentationError",
     "evalue": "expected an indented block (<ipython-input-39-e5ff292cd7e9>, line 16)",
     "output_type": "error",
     "traceback": [
      "\u001b[1;36m  File \u001b[1;32m\"<ipython-input-39-e5ff292cd7e9>\"\u001b[1;36m, line \u001b[1;32m16\u001b[0m\n\u001b[1;33m    a = people(\"小明\",16)\u001b[0m\n\u001b[1;37m                       ^\u001b[0m\n\u001b[1;31mIndentationError\u001b[0m\u001b[1;31m:\u001b[0m expected an indented block\n"
     ]
    }
   ],
   "source": [
    "class people :\n",
    "    __name = ''\n",
    "    __age = 0\n",
    "    def __init__(self,name,age) :\n",
    "        self.__name = name \n",
    "        self.__age = age\n",
    "    def speak(self) :\n",
    "        print(\"{}的年龄为{}岁\".format(self.__name,self.__age))\n",
    "class student(people) :\n",
    "    __grade = 0\n",
    "    def __init__(self,name,age,grade) :\n",
    "        self.__grade = grade\n",
    "        people.__init__(self,name,age)\n",
    "    def speak(self) :\n",
    "        #print(\"我是{}年级{}岁的学生{}\".format(self.__grade,self.__age,self.__name))\n",
    "a = people(\"小明\",16)\n",
    "b = student(\"小亮\",10,6)\n",
    "a.speak()\n",
    "b.speak()\n",
    "super(student,b).speak()"
   ]
  }
 ],
 "metadata": {
  "kernelspec": {
   "display_name": "Python 3",
   "language": "python",
   "name": "python3"
  },
  "language_info": {
   "codemirror_mode": {
    "name": "ipython",
    "version": 3
   },
   "file_extension": ".py",
   "mimetype": "text/x-python",
   "name": "python",
   "nbconvert_exporter": "python",
   "pygments_lexer": "ipython3",
   "version": "3.6.4"
  }
 },
 "nbformat": 4,
 "nbformat_minor": 2
}
