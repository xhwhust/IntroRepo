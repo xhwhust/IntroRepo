{
 "cells": [
  {
   "cell_type": "markdown",
   "metadata": {},
   "source": [
    "### 用正则表达式抓取新浪新闻"
   ]
  },
  {
   "cell_type": "code",
   "execution_count": null,
   "metadata": {},
   "outputs": [],
   "source": [
    "import re\n",
    "import requests\n",
    "response = requests.get('http://news.sina.com.cn/china')\n",
    "response.encoding = 'utf-8'\n",
    "content = response.text\n",
    "pattern = re.compile('news-item.*?<h2>.*?href=\"(.*?)\".*?>(.*?)</a>',re.S)\n",
    "results = re.findall(pattern,content)\n",
    "for result in results[:-2]:\n",
    "    href,title = result\n",
    "    print(href,title)"
   ]
  },
  {
   "cell_type": "markdown",
   "metadata": {},
   "source": [
    "### BeautifulSoup"
   ]
  },
  {
   "cell_type": "code",
   "execution_count": null,
   "metadata": {},
   "outputs": [],
   "source": [
    "import requests\n",
    "from bs4 import BeautifulSoup\n",
    "response = requests.get('http://news.sina.com.cn/china')\n",
    "response.encoding = 'utf-8'\n",
    "content = response.text\n",
    "soup = BeautifulSoup(content,'lxml')\n",
    "#print(soup.p.a['href']) #取得标签以及属性\n",
    "for result in soup.find_all('li'):\n",
    "    href = result.a['href']\n",
    "    title = result.a.get_text() #或者.string也可以获取文本\n",
    "    print(href,title)"
   ]
  },
  {
   "cell_type": "code",
   "execution_count": null,
   "metadata": {},
   "outputs": [],
   "source": [
    "soup.find_all(class_='news-item')#特殊标签支持直接等于\n",
    "soup.find_all(attrs={'class':'news-item'})#一般情况下传入一个字典类型的参数"
   ]
  },
  {
   "cell_type": "markdown",
   "metadata": {},
   "source": [
    "#### 其他方法：find_parent() find_parents() find_next_sibling find_next_siblings\n",
    "#### find_previous_sibling() find_previous_siblings find_all_next() find_next()\n",
    "#### find_all_previous() find_previous()"
   ]
  },
  {
   "cell_type": "markdown",
   "metadata": {},
   "source": [
    "### CSS选择器"
   ]
  },
  {
   "cell_type": "code",
   "execution_count": null,
   "metadata": {},
   "outputs": [],
   "source": [
    "soup.select('.news-item')#搜索class前面加一个.\n",
    "soup.select('li')\n",
    "soup.select('#subShow1')#搜索id为subShow1的元素"
   ]
  },
  {
   "cell_type": "code",
   "execution_count": 8,
   "metadata": {},
   "outputs": [
    {
     "name": "stdout",
     "output_type": "stream",
     "text": [
      "山海大学\n"
     ]
    }
   ],
   "source": [
    "import re\n",
    "\n",
    "'''\n",
    "python 3.5版本\n",
    "正则匹配中文，固定形式：\\u4E00-\\u9FA5\n",
    "'''\n",
    "\n",
    "words = 'study in 山海大学'\n",
    "regex_str = \".*?([\\u4E00-\\u9FA5]+海大学)\"\n",
    "match_obj = re.match(regex_str, words)\n",
    "if match_obj:\n",
    "    print(match_obj.group(1))\n"
   ]
  }
 ],
 "metadata": {
  "kernelspec": {
   "display_name": "Python 3",
   "language": "python",
   "name": "python3"
  },
  "language_info": {
   "codemirror_mode": {
    "name": "ipython",
    "version": 3
   },
   "file_extension": ".py",
   "mimetype": "text/x-python",
   "name": "python",
   "nbconvert_exporter": "python",
   "pygments_lexer": "ipython3",
   "version": "3.6.4"
  }
 },
 "nbformat": 4,
 "nbformat_minor": 2
}
