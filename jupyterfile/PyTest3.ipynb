{
 "cells": [
  {
   "cell_type": "markdown",
   "metadata": {},
   "source": [
    "### 正则表达式"
   ]
  },
  {
   "cell_type": "code",
   "execution_count": null,
   "metadata": {},
   "outputs": [],
   "source": [
    "import re\n",
    "content = 'java 123 python'\n",
    "result1 = re.match('^java\\s(\\d{3})\\spython$',content)\n",
    "result2 = re.match('^java.*python$',content)\n",
    "print(result1,result2)\n",
    "print(result1.group(1))#得到的第一个小括号括起来的内容\n",
    "print(result1.span())#扫描长度"
   ]
  },
  {
   "cell_type": "markdown",
   "metadata": {},
   "source": [
    "### 贪婪模式匹配"
   ]
  },
  {
   "cell_type": "code",
   "execution_count": null,
   "metadata": {},
   "outputs": [],
   "source": [
    "import re\n",
    "content = 'java 123 python'\n",
    "result = re.match('^ja.*(\\d+).*on$',content) #除了3前面的数字都被匹配成了.*\n",
    "print(result)\n",
    "print(result.group(1))"
   ]
  },
  {
   "cell_type": "markdown",
   "metadata": {},
   "source": [
    "### 非贪婪模式匹配"
   ]
  },
  {
   "cell_type": "code",
   "execution_count": null,
   "metadata": {},
   "outputs": [],
   "source": [
    "import re\n",
    "content = 'java 123 python'\n",
    "result = re.match('^ja.*?(\\d+).*on$',content) #?设置非贪婪匹配，匹配尽可能少的.*\n",
    "print(result)\n",
    "print(result.group(1))"
   ]
  },
  {
   "cell_type": "markdown",
   "metadata": {},
   "source": [
    "### 匹配换行符"
   ]
  },
  {
   "cell_type": "code",
   "execution_count": null,
   "metadata": {},
   "outputs": [],
   "source": [
    "import re\n",
    "content = '''java 123 \n",
    "python\n",
    "'''\n",
    "result = re.match('^ja.*?(\\d+).*on$',content,re.S) # 使用re.S使.可以匹配换行符\n",
    "print(result)\n",
    "print(result.group(1))"
   ]
  },
  {
   "cell_type": "markdown",
   "metadata": {},
   "source": [
    "> 尽量使用泛匹配，使用括号得到匹配目标，尽量使用非贪婪匹配，使用re.S参数使.匹配换行符"
   ]
  },
  {
   "cell_type": "markdown",
   "metadata": {},
   "source": [
    "### re.search"
   ]
  },
  {
   "cell_type": "code",
   "execution_count": null,
   "metadata": {},
   "outputs": [],
   "source": [
    "import re\n",
    "content = 'extra string java 123 python extra string'\n",
    "result = re.search('ja.*?(\\d+).*on',content) #?设置非贪婪匹配，匹配尽可能少的.*\n",
    "print(result)\n",
    "print(result.group(1))"
   ]
  },
  {
   "cell_type": "markdown",
   "metadata": {},
   "source": [
    "> re.search会扫描整个字符串返回第一个合适的结果，能用search就不用match"
   ]
  },
  {
   "cell_type": "markdown",
   "metadata": {},
   "source": [
    "> findall返回所有合适的匹配结果"
   ]
  },
  {
   "cell_type": "markdown",
   "metadata": {},
   "source": [
    "### 字符串替换"
   ]
  },
  {
   "cell_type": "code",
   "execution_count": null,
   "metadata": {},
   "outputs": [],
   "source": [
    "import re\n",
    "content = 'java 123456 Android python'\n",
    "result = re.sub('\\d+','replacemant',content)\n",
    "print(result)"
   ]
  },
  {
   "cell_type": "code",
   "execution_count": null,
   "metadata": {},
   "outputs": [],
   "source": [
    "import re\n",
    "content = 'java 123456 Android python'\n",
    "result = re.sub('(\\d+)',r'\\1 789',content)\n",
    "#  r'\\1' 可以取得原字符串匹配结果\n",
    "print(result)"
   ]
  },
  {
   "cell_type": "markdown",
   "metadata": {},
   "source": [
    "### compile"
   ]
  },
  {
   "cell_type": "markdown",
   "metadata": {},
   "source": [
    "> 把一个正则表达式编译成正则对象，以便于重复使用"
   ]
  },
  {
   "cell_type": "code",
   "execution_count": 33,
   "metadata": {},
   "outputs": [
    {
     "name": "stdout",
     "output_type": "stream",
     "text": [
      "<_sre.SRE_Match object; span=(0, 17), match='java An\\ndroid 123'>\n",
      "123\n"
     ]
    }
   ],
   "source": [
    "import re\n",
    "content = '''java An\n",
    "droid 123 python\n",
    "'''\n",
    "pattern = re.compile('.*?(\\d+).*?',re.S)\n",
    "result = re.search(pattern,content)\n",
    "print(result)\n",
    "print(result.group(1))"
   ]
  },
  {
   "cell_type": "markdown",
   "metadata": {},
   "source": [
    "### 实战"
   ]
  },
  {
   "cell_type": "code",
   "execution_count": null,
   "metadata": {},
   "outputs": [],
   "source": [
    "import re\n",
    "import requests\n",
    "content = requests.get('https://book.douban.com').text\n",
    "pattern = re.compile('<li.*?cover\".*?href=\"(.*?)\"',re.S)\n",
    "result = re.findall(pattern,content)\n",
    "print(result)"
   ]
  },
  {
   "cell_type": "code",
   "execution_count": null,
   "metadata": {},
   "outputs": [],
   "source": [
    "import re\n",
    "import requests\n",
    "content = requests.get('https://book.douban.com').text\n",
    "pattern = re.compile('<li.*?cover\".*?href=\"(.*?)\".*?more-meta\".*?title\">(.*?)</h4>.*?author\">(.*?)</span>.*?year\">(.*?)</span>.*?publisher\">(.*?)</span>',re.S)\n",
    "result = re.findall(pattern,content)\n",
    "print(result)"
   ]
  }
 ],
 "metadata": {
  "kernelspec": {
   "display_name": "Python 3",
   "language": "python",
   "name": "python3"
  },
  "language_info": {
   "codemirror_mode": {
    "name": "ipython",
    "version": 3
   },
   "file_extension": ".py",
   "mimetype": "text/x-python",
   "name": "python",
   "nbconvert_exporter": "python",
   "pygments_lexer": "ipython3",
   "version": "3.6.4"
  }
 },
 "nbformat": 4,
 "nbformat_minor": 2
}
