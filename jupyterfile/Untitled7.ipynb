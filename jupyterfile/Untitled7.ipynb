{
 "cells": [
  {
   "cell_type": "code",
   "execution_count": null,
   "metadata": {},
   "outputs": [],
   "source": [
    "import re\n",
    "import requests\n",
    "content = requests.get('https://book.douban.com').text\n",
    "pattern = re.compile('<li.*?cover\".*?href=\"(.*?)\".*?more-meta\".*?title\">(.*?)</h4>.*?author\">(.*?)</span>.*?year\">(.*?)</span>.*?publisher\">(.*?)</span>',re.S)\n",
    "result = re.findall(pattern,content)\n",
    "print(result)"
   ]
  }
 ],
 "metadata": {
  "kernelspec": {
   "display_name": "Python 3",
   "language": "python",
   "name": "python3"
  },
  "language_info": {
   "codemirror_mode": {
    "name": "ipython",
    "version": 3
   },
   "file_extension": ".py",
   "mimetype": "text/x-python",
   "name": "python",
   "nbconvert_exporter": "python",
   "pygments_lexer": "ipython3",
   "version": "3.6.4"
  }
 },
 "nbformat": 4,
 "nbformat_minor": 2
}
