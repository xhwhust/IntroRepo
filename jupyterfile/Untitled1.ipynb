{
 "cells": [
  {
   "cell_type": "code",
   "execution_count": 6,
   "metadata": {},
   "outputs": [],
   "source": [
    "import requests\n",
    "from bs4 import BeautifulSoup"
   ]
  },
  {
   "cell_type": "code",
   "execution_count": 44,
   "metadata": {},
   "outputs": [
    {
     "name": "stdout",
     "output_type": "stream",
     "text": [
      "习近平同党外人士座谈：多党合作要有新气象\n",
      "“习近平教导党员如何过年”：沉下去访贫问苦\n",
      "《农村人居环境整治三年行动方案》印发\n",
      "乡村振兴有了路线图 “一号”春风到\n",
      "乡村振兴战略谋划中国农村巨变蓝图\n",
      "看看有哪些人拖欠劳动者工资\n"
     ]
    }
   ],
   "source": [
    "res = requests.get('http://news.baidu.com/')\n",
    "res.encoding = 'utf-8'\n",
    "soup = BeautifulSoup(res.text,'html.parser')\n",
    "for p in soup.select('ul strong') :\n",
    "    content = p.select('a')\n",
    "    print(content[0].text)"
   ]
  },
  {
   "cell_type": "code",
   "execution_count": 52,
   "metadata": {},
   "outputs": [
    {
     "name": "stdout",
     "output_type": "stream",
     "text": [
      "“寒冬送温暖” 街头救助在行动 \n",
      "暖新闻\n",
      "上海发布霜冻黄色预警 明早大部地区最低温-3℃\n",
      "外媒：失踪印度油轮已被海盗释放 22名船员身体无恙\n",
      "2018年央视春晚主持阵容公布:康辉朱迅等联袂主持\n",
      "首钢水钢公司煤气中毒致9死 安监局公布事故原因\n",
      "A站凉了，B站上市，微博曲线入局 破壁的二次元市场成巨头盛宴\n",
      "\n",
      "当互联网思维烧钱到线下，经济危机就近在眼前\n",
      "\n"
     ]
    }
   ],
   "source": [
    "for p in soup.select('.bold-item a') :\n",
    "    content = p.text\n",
    "    print(content)"
   ]
  },
  {
   "cell_type": "code",
   "execution_count": 69,
   "metadata": {
    "scrolled": false
   },
   "outputs": [
    {
     "name": "stdout",
     "output_type": "stream",
     "text": [
      "习近平同党外人士座谈：多党合作要有新气象\n",
      "“习近平教导党员如何过年”：沉下去访贫问苦\n",
      "《农村人居环境整治三年行动方案》印发\n",
      "新时代\n",
      "乡村振兴有了路线图 “一号”春风到\n",
      "新春走基层\n",
      "乡村振兴战略谋划中国农村巨变蓝图\n",
      "看看有哪些人拖欠劳动者工资\n",
      "不忘初心\n",
      "“寒冬送温暖” 街头救助在行动 \n",
      "暖新闻\n",
      "发展的中国：春运高铁串起的“惊叹号”\n",
      "最美基层干部\n",
      "商务部：春节电商正常配送 节前农产品价格或涨\n",
      "教育部：全国已有26万所中小学配备责任督学\n",
      "环保部：船舶在饮用水水源保护区不得排放生活污水\n",
      "国家旅游局：严厉打击黑导非法执业和强迫消费等\n",
      "上海发布霜冻黄色预警 明早大部地区最低温-3℃\n",
      "辽宁又一“老虎”被双开 苏荣、郭伯雄均犯过此错\n",
      "川藏第一桥今日合龙 雅康高速2018年内全线通车\n",
      "\"中国核潜艇之父\"黄旭华视力恢复良好:继续科研\n",
      "2017年我国服务进出口总额46991.1亿元 同比增长6.8%\n",
      "中国成功进行陆基中段反导拦截技术试验有多重要？\n",
      "外媒：失踪印度油轮已被海盗释放 22名船员身体无恙\n",
      "美国再提“南海航行自由”，外交部回应\n",
      "伊朗议员:政府在近期抗议中逮捕5000人 500人仍遭拘留\n",
      "马尔代夫宣布进入紧急状态 外交部提醒暂勿前往\n",
      "韩国情报院：朝鲜人民军总政治局局长黄炳誓被解职\n",
      "日本直升机坠落瞬间视频曝光 \"倒栽葱\"式3秒落下 \n",
      "2018年央视春晚主持阵容公布:康辉朱迅等联袂主持\n",
      "浙江查处多起网络游戏赌博案\n",
      "男童误喝清洁水酿悲剧 奶奶:以为是喝剩的矿泉水\n",
      "青春派! 行程近1500公里 跟着80后大货司机去远方\n",
      "《旅行青蛙》设计师：青蛙是丈夫 不是儿子!\n",
      "男子网订“观景豪华房”变工地 涉事建筑已停止入住\n",
      "首钢水钢公司煤气中毒致9死 安监局公布事故原因\n",
      "男孩往化粪池扔鞭炮引爆炸 气浪掀飞井盖砸伤女孩\n",
      "河南一高校寒假达80天 校方称因宿舍改造推迟开学\n",
      "最孤独小镇的唯一居民 每年投票自己当镇长\n",
      "上海市通信管理局优化增值电信业务经营流程的公告\n",
      "梦想进行时：“飞龙”复兴\n",
      "宁德治吏：看习近平惩治贪腐的“初心”之源\n",
      "习近平心系“三农” 领航新时代乡村振兴\n",
      "中国成功进行陆基中段反导拦截技术试验\n",
      "百姓“钱袋子”新变化\n",
      "人类首次发现银河系外行星\n",
      "黄山风景区将启动有偿救援\n",
      "高校更名:至少65所高校去掉\"职业\"二字\n",
      "北京查获非法爆竹\n",
      "台当局拒绝春节加班机\n",
      "美股连续暴跌\n",
      "A站凉了，B站上市，微博曲线入局 破壁的二次元市场成巨头盛宴\n",
      "\n",
      "能飞到火星的猎鹰重型火箭首飞在即！你想知道的都在这\n",
      "\n",
      "腾讯入股盛大游戏：两大行业老冤家走到一起对抗网易\n",
      "\n",
      "iPhone X又出问题 苹果还值得信任吗？\n",
      "\n",
      "仅靠中国手机企业，高通难以创造5G辉煌\n",
      "\n",
      "当互联网思维烧钱到线下，经济危机就近在眼前\n",
      "\n",
      "百度区块链游戏莱茨狗内测，金融+游戏，探索区块链金融应用突破\n",
      "\n",
      "虎牙和斗鱼到底谁才是第一？数据之争的本质是什么？\n",
      "\n",
      "区块链要降温？国家将对虚拟货币境外交易平台采取监管措施\n",
      "\n",
      "一张图告诉你阿里巴巴离亚马逊还有多远\n",
      "\n"
     ]
    }
   ],
   "source": [
    "for p in soup.select('ul li a')[39:-11]:\n",
    "    print(p.text)"
   ]
  },
  {
   "cell_type": "code",
   "execution_count": 70,
   "metadata": {},
   "outputs": [
    {
     "data": {
      "text/plain": [
       "[]"
      ]
     },
     "execution_count": 70,
     "metadata": {},
     "output_type": "execute_result"
    }
   ],
   "source": [
    "soup.select('.strong')"
   ]
  }
 ],
 "metadata": {
  "kernelspec": {
   "display_name": "Python 3",
   "language": "python",
   "name": "python3"
  },
  "language_info": {
   "codemirror_mode": {
    "name": "ipython",
    "version": 3
   },
   "file_extension": ".py",
   "mimetype": "text/x-python",
   "name": "python",
   "nbconvert_exporter": "python",
   "pygments_lexer": "ipython3",
   "version": "3.6.4"
  }
 },
 "nbformat": 4,
 "nbformat_minor": 2
}
