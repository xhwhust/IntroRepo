{
 "cells": [
  {
   "cell_type": "code",
   "execution_count": 157,
   "metadata": {},
   "outputs": [],
   "source": [
    "import requests\n",
    "from bs4 import BeautifulSoup\n",
    "res = requests.get('http://news.sina.com.cn/china/')\n",
    "res.encoding = 'utf-8'\n",
    "soup = BeautifulSoup(res.text,'html.parser')\n",
    "contents = []\n",
    "times = []\n",
    "links = []\n",
    "for news in soup.select('.news-item') :\n",
    "    if len(news.select('a')) > 0 :\n",
    "        contents.append(news.select('a')[0].text)\n",
    "        content = news.select('a')[0].text\n",
    "        links.append(news.select('a')[0]['href'])\n",
    "        link = news.select('a')[0]['href']\n",
    "    if len(news.select('.time')) > 0 :\n",
    "        times.append(news.select('.time')[0].text)\n",
    "        time = news.select('.time')[0].text\n",
    "    #print(time,content,link)"
   ]
  },
  {
   "cell_type": "code",
   "execution_count": 164,
   "metadata": {},
   "outputs": [],
   "source": [
    "def getArticleDetail(url) :\n",
    "    detail = []\n",
    "    ress = requests.get(url)\n",
    "    ress.encoding = 'utf-8'\n",
    "    soups = BeautifulSoup(ress.text,'html.parser')\n",
    "    time = soups.select('.date')[0].text\n",
    "    library = soups.select('.date-source a')[0].text\n",
    "    detail.append(time)\n",
    "    detail.append(library)\n",
    "    p = soups.select('.article p')\n",
    "    name = p[(len(p)-1)].text.lstrip('责任编辑：')\n",
    "    detail.append(name)\n",
    "    return detail"
   ]
  },
  {
   "cell_type": "code",
   "execution_count": 165,
   "metadata": {},
   "outputs": [
    {
     "data": {
      "text/plain": [
       "['2018年02月07日 18:47', '新华国际', '刘德宾 SN222']"
      ]
     },
     "execution_count": 165,
     "metadata": {},
     "output_type": "execute_result"
    }
   ],
   "source": [
    "getArticleDetail(links[0])"
   ]
  },
  {
   "cell_type": "code",
   "execution_count": 177,
   "metadata": {
    "scrolled": false
   },
   "outputs": [
    {
     "data": {
      "text/plain": [
       "['中国使馆不断提醒不要“挂火车” 悲剧还是在发生',\n",
       " ['2018年02月07日 18:47', '新华国际', '刘德宾 SN222'],\n",
       " '得知中央巡视组要来 这位省委常委悄悄退200万',\n",
       " ['2018年02月07日 18:19', '新浪综合', '桂强 '],\n",
       " 'Close',\n",
       " ['2018年02月07日 16:41', '国家旅游局网站', '桂强 '],\n",
       " '台受灾大楼持续倾斜恐将倒塌搜救暂停 49人受困',\n",
       " ['2018年02月07日 18:47', '新华国际', '刘德宾 SN222'],\n",
       " '印尼发生洪涝山体滑坡 中使馆发布安全提醒',\n",
       " ['2018年02月07日 18:19', '新浪综合', '桂强 '],\n",
       " '武汉扫黑除恶收网 公布涉黑恶线索举报电话及邮箱',\n",
       " ['2018年02月07日 18:06', '工人日报', '桂强 '],\n",
       " '辽宁沈阳一男子携易燃易爆材料进站被拘留',\n",
       " ['2018年02月07日 17:57', '新华视点', '刘德宾 SN222'],\n",
       " '青岛海关查获2018年首起走私固体废物案',\n",
       " ['2018年02月07日 17:47', '新京报', '桂强 '],\n",
       " '工信部：力争今年提前完成钢铁去产能1.5亿吨目标',\n",
       " ['2018年02月07日 17:31', '新华社', '刘德宾 SN222'],\n",
       " '陈因任工信部总工程师 张峰不再担任(图/简历)',\n",
       " ['2018年02月07日 17:27', '澎湃新闻', '桂强 ']]"
      ]
     },
     "execution_count": 177,
     "metadata": {},
     "output_type": "execute_result"
    }
   ],
   "source": [
    "del links[2]\n",
    "total = []\n",
    "for i in range(10) :\n",
    "    total.append(contents[i])\n",
    "    str = getArticleDetail(links[i])\n",
    "    #total.append(\"\".join(str))\n",
    "    total.append(str)\n",
    "total"
   ]
  },
  {
   "cell_type": "code",
   "execution_count": 178,
   "metadata": {},
   "outputs": [
    {
     "data": {
      "text/html": [
       "<div>\n",
       "<style scoped>\n",
       "    .dataframe tbody tr th:only-of-type {\n",
       "        vertical-align: middle;\n",
       "    }\n",
       "\n",
       "    .dataframe tbody tr th {\n",
       "        vertical-align: top;\n",
       "    }\n",
       "\n",
       "    .dataframe thead th {\n",
       "        text-align: right;\n",
       "    }\n",
       "</style>\n",
       "<table border=\"1\" class=\"dataframe\">\n",
       "  <thead>\n",
       "    <tr style=\"text-align: right;\">\n",
       "      <th></th>\n",
       "      <th>0</th>\n",
       "    </tr>\n",
       "  </thead>\n",
       "  <tbody>\n",
       "    <tr>\n",
       "      <th>0</th>\n",
       "      <td>中国使馆不断提醒不要“挂火车” 悲剧还是在发生</td>\n",
       "    </tr>\n",
       "    <tr>\n",
       "      <th>1</th>\n",
       "      <td>[2018年02月07日 18:47, 新华国际, 刘德宾 SN222]</td>\n",
       "    </tr>\n",
       "    <tr>\n",
       "      <th>2</th>\n",
       "      <td>得知中央巡视组要来 这位省委常委悄悄退200万</td>\n",
       "    </tr>\n",
       "    <tr>\n",
       "      <th>3</th>\n",
       "      <td>[2018年02月07日 18:19, 新浪综合, 桂强 ]</td>\n",
       "    </tr>\n",
       "    <tr>\n",
       "      <th>4</th>\n",
       "      <td>Close</td>\n",
       "    </tr>\n",
       "    <tr>\n",
       "      <th>5</th>\n",
       "      <td>[2018年02月07日 16:41, 国家旅游局网站, 桂强 ]</td>\n",
       "    </tr>\n",
       "    <tr>\n",
       "      <th>6</th>\n",
       "      <td>台受灾大楼持续倾斜恐将倒塌搜救暂停 49人受困</td>\n",
       "    </tr>\n",
       "    <tr>\n",
       "      <th>7</th>\n",
       "      <td>[2018年02月07日 18:47, 新华国际, 刘德宾 SN222]</td>\n",
       "    </tr>\n",
       "    <tr>\n",
       "      <th>8</th>\n",
       "      <td>印尼发生洪涝山体滑坡 中使馆发布安全提醒</td>\n",
       "    </tr>\n",
       "    <tr>\n",
       "      <th>9</th>\n",
       "      <td>[2018年02月07日 18:19, 新浪综合, 桂强 ]</td>\n",
       "    </tr>\n",
       "  </tbody>\n",
       "</table>\n",
       "</div>"
      ],
      "text/plain": [
       "                                      0\n",
       "0               中国使馆不断提醒不要“挂火车” 悲剧还是在发生\n",
       "1  [2018年02月07日 18:47, 新华国际, 刘德宾 SN222]\n",
       "2               得知中央巡视组要来 这位省委常委悄悄退200万\n",
       "3        [2018年02月07日 18:19, 新浪综合, 桂强 ]\n",
       "4                                 Close\n",
       "5     [2018年02月07日 16:41, 国家旅游局网站, 桂强 ]\n",
       "6               台受灾大楼持续倾斜恐将倒塌搜救暂停 49人受困\n",
       "7  [2018年02月07日 18:47, 新华国际, 刘德宾 SN222]\n",
       "8                  印尼发生洪涝山体滑坡 中使馆发布安全提醒\n",
       "9        [2018年02月07日 18:19, 新浪综合, 桂强 ]"
      ]
     },
     "execution_count": 178,
     "metadata": {},
     "output_type": "execute_result"
    }
   ],
   "source": [
    "import pandas\n",
    "df = pandas.DataFrame(total)\n",
    "df.head(10)"
   ]
  }
 ],
 "metadata": {
  "kernelspec": {
   "display_name": "Python 3",
   "language": "python",
   "name": "python3"
  },
  "language_info": {
   "codemirror_mode": {
    "name": "ipython",
    "version": 3
   },
   "file_extension": ".py",
   "mimetype": "text/x-python",
   "name": "python",
   "nbconvert_exporter": "python",
   "pygments_lexer": "ipython3",
   "version": "3.6.4"
  }
 },
 "nbformat": 4,
 "nbformat_minor": 2
}
