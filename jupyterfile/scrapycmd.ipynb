{
 "cells": [
  {
   "cell_type": "markdown",
   "metadata": {},
   "source": [
    "### 创建project\n",
    "* scrapy startproject (projectname)\n",
    "### 创建爬虫\n",
    "* scrapy genspider (spidername) (url)\n",
    "### 网页交互\n",
    "* scrapy shell (url)\n",
    "### 运行爬虫\n",
    "* scrapy crawl (spidername)\n",
    "* scrapy runspider (spidername).py"
   ]
  }
 ],
 "metadata": {
  "kernelspec": {
   "display_name": "Python 3",
   "language": "python",
   "name": "python3"
  },
  "language_info": {
   "codemirror_mode": {
    "name": "ipython",
    "version": 3
   },
   "file_extension": ".py",
   "mimetype": "text/x-python",
   "name": "python",
   "nbconvert_exporter": "python",
   "pygments_lexer": "ipython3",
   "version": "3.6.4"
  }
 },
 "nbformat": 4,
 "nbformat_minor": 2
}
