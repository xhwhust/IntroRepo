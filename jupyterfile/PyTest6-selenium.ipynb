{
 "cells": [
  {
   "cell_type": "markdown",
   "metadata": {},
   "source": [
    "## selenium"
   ]
  },
  {
   "cell_type": "code",
   "execution_count": 2,
   "metadata": {},
   "outputs": [],
   "source": [
    "from selenium import webdriver\n",
    "browser = webdriver.Chrome()\n",
    "browser.get('https://www.taobao.com')\n",
    "#print(browser.page_source) #网页的html文本\n",
    "browser.close()"
   ]
  },
  {
   "cell_type": "markdown",
   "metadata": {},
   "source": [
    "## 查找元素"
   ]
  },
  {
   "cell_type": "markdown",
   "metadata": {},
   "source": [
    "* find_element_by_id\n",
    "* find_element_by_name\n",
    "* find_element_by_xpath\n",
    "* find_element_by_link_text\n",
    "* find_element_by_partial_link_text\n",
    "* find_element_by_tag_name\n",
    "* find_element_by_class_name\n",
    "* find_element_by_css_selector"
   ]
  },
  {
   "cell_type": "code",
   "execution_count": 4,
   "metadata": {},
   "outputs": [
    {
     "name": "stdout",
     "output_type": "stream",
     "text": [
      "<selenium.webdriver.remote.webelement.WebElement (session=\"8a5a025aae701caa26f99bfa3b1d4119\", element=\"0.9513570615817284-1\")> <selenium.webdriver.remote.webelement.WebElement (session=\"8a5a025aae701caa26f99bfa3b1d4119\", element=\"0.9513570615817284-1\")>\n"
     ]
    }
   ],
   "source": [
    "from selenium import webdriver\n",
    "browser = webdriver.Chrome()\n",
    "browser.get('https://www.taobao.com')\n",
    "first = browser.find_element_by_id('q')\n",
    "second = browser.find_element_by_css_selector('#q')\n",
    "print(first,second)\n",
    "browser.close()"
   ]
  },
  {
   "cell_type": "markdown",
   "metadata": {},
   "source": [
    "### 元素交互"
   ]
  },
  {
   "cell_type": "code",
   "execution_count": 1,
   "metadata": {},
   "outputs": [],
   "source": [
    "from selenium import webdriver\n",
    "import time\n",
    "browser = webdriver.Chrome()\n",
    "browser.get('https://www.taobao.com')\n",
    "input = browser.find_element_by_id('q')\n",
    "input.send_keys('ipad')\n",
    "time.sleep(1)\n",
    "input.clear()\n",
    "input.send_keys('iphone')\n",
    "button = browser.find_element_by_class_name('btn-search')\n",
    "button.click()"
   ]
  },
  {
   "cell_type": "code",
   "execution_count": 11,
   "metadata": {},
   "outputs": [],
   "source": [
    "from selenium import webdriver\n",
    "import time\n",
    "browser = webdriver.Chrome()\n",
    "browser.get('https://www.taobao.com')\n",
    "items = browser.find_element_by_css_selector('.service-bd li a')"
   ]
  },
  {
   "cell_type": "code",
   "execution_count": 7,
   "metadata": {},
   "outputs": [],
   "source": [
    "from selenium import webdriver\n",
    "from selenium.webdriver.common.by import By\n",
    "from selenium.webdriver.support.ui import WebDriverWait\n",
    "from selenium.webdriver.support import expected_conditions as EC\n",
    "import time\n",
    "browser = webdriver.Chrome()\n",
    "wait = WebDriverWait(browser, 10)\n",
    "browser.get('http://www.taobao.com')\n",
    "input = wait.until(EC.presence_of_element_located((By.CSS_SELECTOR, '#q')))\n",
    "input.send_keys('ipad')\n",
    "time.sleep(1)\n",
    "input.clear()\n",
    "input.send_keys('java')\n",
    "button = wait.until(EC.element_to_be_clickable((By.CLASS_NAME, 'btn-search')))\n",
    "button.click()"
   ]
  },
  {
   "cell_type": "code",
   "execution_count": 9,
   "metadata": {},
   "outputs": [
    {
     "name": "stdout",
     "output_type": "stream",
     "text": [
      "<selenium.webdriver.remote.webelement.WebElement (session=\"40294cdbab34abb663fc6de12625e39e\", element=\"0.010795432736559807-1\")> <selenium.webdriver.remote.webelement.WebElement (session=\"40294cdbab34abb663fc6de12625e39e\", element=\"0.010795432736559807-1\")> <selenium.webdriver.remote.webelement.WebElement (session=\"40294cdbab34abb663fc6de12625e39e\", element=\"0.010795432736559807-1\")> [<selenium.webdriver.remote.webelement.WebElement (session=\"40294cdbab34abb663fc6de12625e39e\", element=\"0.010795432736559807-1\")>]\n"
     ]
    }
   ],
   "source": [
    "from selenium import webdriver\n",
    "from selenium.webdriver.common.by import By\n",
    "browser = webdriver.Chrome()\n",
    "browser.get('http://www.taobao.com')\n",
    "first = browser.find_element(By.CSS_SELECTOR, '#J_TSearchForm > div.search-button > button')\n",
    "second = browser.find_element(By.XPATH, '//*[@id=\"J_TSearchForm\"]/div[1]/button')\n",
    "third = browser.find_element(By.CLASS_NAME, 'btn-search')\n",
    "fourth = browser.find_elements_by_xpath('//button')\n",
    "print(first, second, third, fourth)"
   ]
  }
 ],
 "metadata": {
  "kernelspec": {
   "display_name": "Python 3",
   "language": "python",
   "name": "python3"
  },
  "language_info": {
   "codemirror_mode": {
    "name": "ipython",
    "version": 3
   },
   "file_extension": ".py",
   "mimetype": "text/x-python",
   "name": "python",
   "nbconvert_exporter": "python",
   "pygments_lexer": "ipython3",
   "version": "3.6.4"
  }
 },
 "nbformat": 4,
 "nbformat_minor": 2
}
