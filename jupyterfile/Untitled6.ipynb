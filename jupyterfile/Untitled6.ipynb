{
 "cells": [
  {
   "cell_type": "code",
   "execution_count": 80,
   "metadata": {},
   "outputs": [
    {
     "name": "stdout",
     "output_type": "stream",
     "text": [
      "thread-1线程开始thread-2线程开始\n",
      "\n",
      "thread-1>>1\n",
      "thread-1>>2\n",
      "thread-1>>3\n",
      "thread-1>>4\n",
      "thread-1>>5\n",
      "thread-1线程结束thread-2>>1\n",
      "\n",
      "thread-2>>2\n",
      "thread-2>>3\n",
      "thread-2>>4\n",
      "thread-2>>5\n",
      "thread-2线程结束\n",
      "退出主线程\n"
     ]
    }
   ],
   "source": [
    "import threading\n",
    "import time\n",
    "class mythread(threading.Thread) :\n",
    "    def __init__(self,threadname,t) :\n",
    "        threading.Thread.__init__(self)\n",
    "        self.threadname = threadname\n",
    "        self.t = t\n",
    "    def run(self) :\n",
    "        print(\"%s线程开始\"%(self.threadname))\n",
    "        threadLock.acquire()\n",
    "        fun(self.threadname,self.t)\n",
    "        threadLock.release()\n",
    "        print(\"%s线程结束\"%(self.threadname))\n",
    "    def fun(self,threadname,t) :\n",
    "        for i in range(5) :\n",
    "            time.sleep(t)\n",
    "            print(\"%s线程>>%d\"%(threadname,i))\n",
    "threadLock = threading.Lock()\n",
    "threads = []\n",
    "thread1 = mythread(\"thread-1\",1)\n",
    "thread2 = mythread(\"thread-2\",2)\n",
    "thread1.start()\n",
    "thread2.start()\n",
    "threads.append(thread1)\n",
    "threads.append(thread2)\n",
    "for thread in threads :\n",
    "    thread.join()\n",
    "print(\"退出主线程\")"
   ]
  }
 ],
 "metadata": {
  "kernelspec": {
   "display_name": "Python 3",
   "language": "python",
   "name": "python3"
  },
  "language_info": {
   "codemirror_mode": {
    "name": "ipython",
    "version": 3
   },
   "file_extension": ".py",
   "mimetype": "text/x-python",
   "name": "python",
   "nbconvert_exporter": "python",
   "pygments_lexer": "ipython3",
   "version": "3.6.4"
  }
 },
 "nbformat": 4,
 "nbformat_minor": 2
}
