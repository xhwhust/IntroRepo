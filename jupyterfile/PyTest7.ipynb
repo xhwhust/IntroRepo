{
 "cells": [
  {
   "cell_type": "markdown",
   "metadata": {},
   "source": [
    "## datetime（详情见廖雪峰python教程）"
   ]
  },
  {
   "cell_type": "code",
   "execution_count": 4,
   "metadata": {},
   "outputs": [
    {
     "name": "stdout",
     "output_type": "stream",
     "text": [
      "2018-08-18 16:39:04.644052\n"
     ]
    }
   ],
   "source": [
    "from datetime import datetime\n",
    "now = datetime.now()\n",
    "print(now)"
   ]
  },
  {
   "cell_type": "code",
   "execution_count": 15,
   "metadata": {},
   "outputs": [
    {
     "name": "stdout",
     "output_type": "stream",
     "text": [
      "2018-08-18 20:08:06\n"
     ]
    }
   ],
   "source": [
    "dt = datetime(2018, 8, 18, 20, 8, 6)\n",
    "print(dt)"
   ]
  },
  {
   "cell_type": "code",
   "execution_count": 16,
   "metadata": {},
   "outputs": [
    {
     "name": "stdout",
     "output_type": "stream",
     "text": [
      "1534594086.0\n"
     ]
    }
   ],
   "source": [
    "ts = dt.timestamp()\n",
    "print(ts)"
   ]
  },
  {
   "cell_type": "code",
   "execution_count": 30,
   "metadata": {},
   "outputs": [
    {
     "name": "stdout",
     "output_type": "stream",
     "text": [
      "2018-08-18 20:08:06\n"
     ]
    }
   ],
   "source": [
    "dt = datetime.fromtimestamp(ts)\n",
    "print(dt)"
   ]
  },
  {
   "cell_type": "code",
   "execution_count": 33,
   "metadata": {},
   "outputs": [
    {
     "name": "stdout",
     "output_type": "stream",
     "text": [
      "Sat, Aug 18 20:08\n"
     ]
    }
   ],
   "source": [
    "str = dt.strftime(\"%a, %b %d %H:%M\")\n",
    "print(str)"
   ]
  },
  {
   "cell_type": "code",
   "execution_count": 34,
   "metadata": {},
   "outputs": [
    {
     "name": "stdout",
     "output_type": "stream",
     "text": [
      "2018-08-18 20:08:06\n"
     ]
    }
   ],
   "source": [
    "dt = datetime.strptime(\"2018-08-18 20:08:06\", \"%Y-%m-%d %H:%M:%S\")\n",
    "print(dt)"
   ]
  },
  {
   "cell_type": "code",
   "execution_count": 41,
   "metadata": {},
   "outputs": [
    {
     "name": "stdout",
     "output_type": "stream",
     "text": [
      "2018-08-18 16:57:51.392459\n",
      "2018-08-19 16:57:51.392459\n",
      "2018-08-20 19:57:51.392459\n"
     ]
    }
   ],
   "source": [
    "from datetime import timedelta\n",
    "now = datetime.now()\n",
    "print(now)\n",
    "tomorrow = now + timedelta(days=1)\n",
    "print(tomorrow)\n",
    "other = now + timedelta(days=2, hours=3)\n",
    "print(other)"
   ]
  },
  {
   "cell_type": "markdown",
   "metadata": {},
   "source": [
    "## namedtuple"
   ]
  },
  {
   "cell_type": "code",
   "execution_count": 47,
   "metadata": {},
   "outputs": [
    {
     "name": "stdout",
     "output_type": "stream",
     "text": [
      "Point(x=10, y=20)\n",
      "10\n",
      "20\n"
     ]
    }
   ],
   "source": [
    "from collections import namedtuple\n",
    "Point = namedtuple(\"Point\", [\"x\", \"y\"])\n",
    "p = Point(10, 20)\n",
    "print(p)\n",
    "print(p.x)\n",
    "print(p.y)"
   ]
  },
  {
   "cell_type": "markdown",
   "metadata": {},
   "source": [
    "## hashlib"
   ]
  },
  {
   "cell_type": "code",
   "execution_count": 52,
   "metadata": {},
   "outputs": [
    {
     "name": "stdout",
     "output_type": "stream",
     "text": [
      "f6835168c4823ac89c1bc97154a675a8\n"
     ]
    }
   ],
   "source": [
    "import hashlib\n",
    "md5 = hashlib.md5()\n",
    "md5.update(\"hello world\".encode(\"utf-8\"))\n",
    "md5.update(\"!!!\".encode(\"utf-8\"))\n",
    "print(md5.hexdigest())"
   ]
  },
  {
   "cell_type": "code",
   "execution_count": 58,
   "metadata": {},
   "outputs": [
    {
     "name": "stdout",
     "output_type": "stream",
     "text": [
      "7df836e8036420bbff771aa6870e2b26\n"
     ]
    }
   ],
   "source": [
    "import hmac\n",
    "password = b\"hello world\"\n",
    "#把string转换为bytes类型\n",
    "salt = b\"secret\"\n",
    "h = hmac.new(password, salt, digestmod='MD5')\n",
    "print(h.hexdigest())"
   ]
  },
  {
   "cell_type": "code",
   "execution_count": null,
   "metadata": {},
   "outputs": [],
   "source": [
    "from selenium import webdriver\n",
    "from selenium.webdriver.common.by import By\n",
    "from selenium.webdriver.support.ui import WebDriverWait\n",
    "from selenium.webdriver.support import expected_conditions as EC\n",
    "\n",
    "browser = webdriver.Chrome()\n",
    "browser.get(\"http://www.taobao.com\")\n",
    "wait = WebDriverWait(browser, 10)\n",
    "put = wait.until(\n",
    "    EC.presence_of_element_located((By.XPATH, '//*[@id=\"q\"]'))\n",
    ")\n",
    "submit = wait.until(\n",
    "    EC.element_to_be_clickable((By.XPATH, '//button'))\n",
    ")\n",
    "put.send_keys('java')\n",
    "submit.click()\n",
    "browser.quit()"
   ]
  }
 ],
 "metadata": {
  "kernelspec": {
   "display_name": "Python 3",
   "language": "python",
   "name": "python3"
  },
  "language_info": {
   "codemirror_mode": {
    "name": "ipython",
    "version": 3
   },
   "file_extension": ".py",
   "mimetype": "text/x-python",
   "name": "python",
   "nbconvert_exporter": "python",
   "pygments_lexer": "ipython3",
   "version": "3.6.4"
  }
 },
 "nbformat": 4,
 "nbformat_minor": 2
}
