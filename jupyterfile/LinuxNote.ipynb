{
 "cells": [
  {
   "cell_type": "markdown",
   "metadata": {},
   "source": [
    "## 压缩命令\n",
    "### 只能压缩文件，要压缩文件夹需要先使用下面的打包命令\n",
    "* gzip (filename) gunzip (filename) 压缩后删除原文件 \n",
    "> 默认使用后缀.gz\n",
    "* bzip2 (filename) bunzip2 (filename) 同上，加上-k可以保留原文件 \n",
    "> 默认使用后缀.bz2\n",
    "\n",
    "### 可以压缩文件及文件夹\n",
    "* zip (newname) (oldname) 默认保留原文件\n",
    "* unzip (filename) 默认保留压缩包"
   ]
  },
  {
   "cell_type": "markdown",
   "metadata": {},
   "source": [
    "## 打包命令\n",
    "* tar -cvf (newname) (oldname) 打包\n",
    "* tar -xvf (filename) 拆包\n",
    "\n",
    "**默认使用后缀.tar**\n",
    "\n",
    "> -c 表示打包\n",
    "  \n",
    "  > -x 表示拆包\n",
    "  \n",
    "    > -v 表示打印打包(拆包)具体内容 \n",
    "    \n",
    "      > -f 表示指定文件内容"
   ]
  },
  {
   "cell_type": "markdown",
   "metadata": {},
   "source": [
    "## 打包并压缩\n",
    "### .gz压缩格式\n",
    "* tar -zcvf (newname) (oldname)\n",
    "* tar -zxvf (newname) (oldname)\n",
    "> 默认使用后缀.\n",
    "\n",
    "### .bz2压缩格式\n",
    "* tar -jcvf (newname) (oldname)\n",
    "* tar -jxvf (newname) (oldname)"
   ]
  }
 ],
 "metadata": {
  "kernelspec": {
   "display_name": "Python 3",
   "language": "python",
   "name": "python3"
  },
  "language_info": {
   "codemirror_mode": {
    "name": "ipython",
    "version": 3
   },
   "file_extension": ".py",
   "mimetype": "text/x-python",
   "name": "python",
   "nbconvert_exporter": "python",
   "pygments_lexer": "ipython3",
   "version": "3.6.4"
  }
 },
 "nbformat": 4,
 "nbformat_minor": 2
}
