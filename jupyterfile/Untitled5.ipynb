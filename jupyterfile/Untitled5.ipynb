{
 "cells": [
  {
   "cell_type": "code",
   "execution_count": 31,
   "metadata": {},
   "outputs": [
    {
     "name": "stdout",
     "output_type": "stream",
     "text": [
      "私有方法\n",
      "编号1:Java的价格为79.80\n",
      "析构函数\n"
     ]
    }
   ],
   "source": [
    "class Book :\n",
    "    __name = ''\n",
    "    __price = 0\n",
    "    num = 0\n",
    "    def __init__(self,x,y) :\n",
    "        self.__name = x \n",
    "        self.__price = y\n",
    "    def __str__(self) :\n",
    "        self.__fun()\n",
    "        return \"编号%d:%s的价格为%0.2f\"%(self.num,self.__name,self.__price)\n",
    "    def __fun(self) :\n",
    "        print(\"私有方法\")\n",
    "    def __del__(self) :\n",
    "        print(\"析构函数\")\n",
    "bk = Book('Java',79.8)\n",
    "bk.num = 1 \n",
    "print(bk)\n",
    "del bk"
   ]
  }
 ],
 "metadata": {
  "kernelspec": {
   "display_name": "Python 3",
   "language": "python",
   "name": "python3"
  },
  "language_info": {
   "codemirror_mode": {
    "name": "ipython",
    "version": 3
   },
   "file_extension": ".py",
   "mimetype": "text/x-python",
   "name": "python",
   "nbconvert_exporter": "python",
   "pygments_lexer": "ipython3",
   "version": "3.6.4"
  }
 },
 "nbformat": 4,
 "nbformat_minor": 2
}
