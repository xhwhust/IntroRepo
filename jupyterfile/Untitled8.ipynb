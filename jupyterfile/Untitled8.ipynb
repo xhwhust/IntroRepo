{
 "cells": [
  {
   "cell_type": "code",
   "execution_count": 18,
   "metadata": {},
   "outputs": [
    {
     "name": "stdout",
     "output_type": "stream",
     "text": [
      "AZ\n",
      "2\n",
      "CB"
     ]
    }
   ],
   "source": [
    "str = input()\n",
    "num = input()\n",
    "num = int(num)\n",
    "num = num % 26 \n",
    "for i in str:\n",
    "    if ord(i) >= 97 and ord(i) <= 122:\n",
    "        print(chr((ord(i)-97+num)%26+97), end=\"\")\n",
    "    elif ord(i) >= 65 and ord(i) <= 90:\n",
    "        print(chr((ord(i)-65+num)%26+65), end=\"\")\n",
    "    else:\n",
    "        print(i, end=\"\") "
   ]
  }
 ],
 "metadata": {
  "kernelspec": {
   "display_name": "Python 3",
   "language": "python",
   "name": "python3"
  },
  "language_info": {
   "codemirror_mode": {
    "name": "ipython",
    "version": 3
   },
   "file_extension": ".py",
   "mimetype": "text/x-python",
   "name": "python",
   "nbconvert_exporter": "python",
   "pygments_lexer": "ipython3",
   "version": "3.6.4"
  }
 },
 "nbformat": 4,
 "nbformat_minor": 2
}
