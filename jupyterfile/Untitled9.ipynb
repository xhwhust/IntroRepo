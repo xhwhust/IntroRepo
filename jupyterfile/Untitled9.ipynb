{
 "cells": [
  {
   "cell_type": "code",
   "execution_count": 13,
   "metadata": {},
   "outputs": [
    {
     "name": "stdout",
     "output_type": "stream",
     "text": [
      "['()', '()', '()']\n",
      "['()', '()', '()']\n",
      "['()', '()', '()']\n"
     ]
    }
   ],
   "source": [
    "s1 = \"(\"\n",
    "s2 = \")))\"\n",
    "for i in range(0,3):\n",
    "    res = [m+n for m in s1 for n in s2]\n",
    "    print(res)"
   ]
  }
 ],
 "metadata": {
  "kernelspec": {
   "display_name": "Python 3",
   "language": "python",
   "name": "python3"
  },
  "language_info": {
   "codemirror_mode": {
    "name": "ipython",
    "version": 3
   },
   "file_extension": ".py",
   "mimetype": "text/x-python",
   "name": "python",
   "nbconvert_exporter": "python",
   "pygments_lexer": "ipython3",
   "version": "3.6.4"
  }
 },
 "nbformat": 4,
 "nbformat_minor": 2
}
